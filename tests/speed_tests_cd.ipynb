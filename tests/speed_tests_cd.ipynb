{
 "metadata": {
  "name": ""
 },
 "nbformat": 3,
 "nbformat_minor": 0,
 "worksheets": [
  {
   "cells": [
    {
     "cell_type": "code",
     "collapsed": false,
     "input": [
      "\"\"\"\n",
      "Timeit test for dict lookup vs calculation\n",
      "\"\"\"\n",
      "cell_dict = {}\n",
      "for i in range(40):\n",
      "    for j in range(40):\n",
      "        cell_dict[(i,j)] = i*j\n"
     ],
     "language": "python",
     "metadata": {},
     "outputs": [],
     "prompt_number": 12
    },
    {
     "cell_type": "code",
     "collapsed": false,
     "input": [
      "%%timeit row = 5;col = 6\n",
      "cells = []\n",
      "for i in range(-1,2):\n",
      "    for j in range(-1,2):\n",
      "        if (row+i,col+j) in cell_dict:\n",
      "            cells.append(cell_dict[(row+i,col+j)])"
     ],
     "language": "python",
     "metadata": {},
     "outputs": [
      {
       "output_type": "stream",
       "stream": "stdout",
       "text": [
        "100000 loops, best of 3: 3.75 \u00b5s per loop\n"
       ]
      }
     ],
     "prompt_number": 20
    },
    {
     "cell_type": "code",
     "collapsed": false,
     "input": [
      "%%timeit row = 5;col = 6\n",
      "cells = []\n",
      "for i in range(-1,2):\n",
      "    for j in range(-1,2):\n",
      "        if 0<=row+i<40 and 0<=col+j<40:\n",
      "            cells.append(cell_dict[(row+i,col+j)])"
     ],
     "language": "python",
     "metadata": {},
     "outputs": [
      {
       "output_type": "stream",
       "stream": "stdout",
       "text": [
        "100000 loops, best of 3: 3.87 \u00b5s per loop\n"
       ]
      }
     ],
     "prompt_number": 21
    },
    {
     "cell_type": "code",
     "collapsed": false,
     "input": [
      "\"\"\"\n",
      "Timeit test for collective norm vs for-loop norm\n",
      "\"\"\"\n",
      "import numpy as np\n",
      "pos_array = np.random.random([20000,2])\n",
      "%timeit np.linalg.norm(pos_array, axis=1)\n"
     ],
     "language": "python",
     "metadata": {},
     "outputs": [
      {
       "output_type": "stream",
       "stream": "stdout",
       "text": [
        "1000 loops, best of 3: 235 \u00b5s per loop\n"
       ]
      }
     ],
     "prompt_number": 31
    },
    {
     "cell_type": "code",
     "collapsed": false,
     "input": [
      "%%timeit\n",
      "for row in pos_array:\n",
      "    np.linalg.norm(pos_array,axis=1)"
     ],
     "language": "python",
     "metadata": {},
     "outputs": [
      {
       "output_type": "stream",
       "stream": "stdout",
       "text": [
        "1 loops, best of 3: 4.46 s per loop\n"
       ]
      }
     ],
     "prompt_number": 32
    },
    {
     "cell_type": "code",
     "collapsed": false,
     "input": [],
     "language": "python",
     "metadata": {},
     "outputs": []
    }
   ],
   "metadata": {}
  }
 ]
}