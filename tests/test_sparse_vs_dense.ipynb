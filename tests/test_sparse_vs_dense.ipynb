{
 "metadata": {
  "name": ""
 },
 "nbformat": 3,
 "nbformat_minor": 0,
 "worksheets": [
  {
   "cells": [
    {
     "cell_type": "code",
     "collapsed": false,
     "input": [
      "import numpy as np\n",
      "import scipy as sp\n",
      "cells = (40,40)\n",
      "nx,ny = cells\n",
      "ex = np.ones(nx)\n",
      "ey = np.ones(ny)"
     ],
     "language": "python",
     "metadata": {},
     "outputs": [],
     "prompt_number": 8
    },
    {
     "cell_type": "code",
     "collapsed": false,
     "input": [
      "# Full matrix\n",
      "dxx = np.diag(ex[:-1],1)-np.diag(ex[:-1],-1)\n",
      "dyy =np.diag(ey[:-1],1)-np.diag(ey[:-1],-1)\n",
      "fullmatrix = np.kron(dxx,np.eye(len(ex))) + np.kron(np.eye(len(ey)),dyy)\n",
      "fullmatrix"
     ],
     "language": "python",
     "metadata": {},
     "outputs": [
      {
       "metadata": {},
       "output_type": "pyout",
       "prompt_number": 21,
       "text": [
        "array([[ 0.,  1.,  0., ...,  0.,  0.,  0.],\n",
        "       [-1.,  0.,  1., ...,  0.,  0.,  0.],\n",
        "       [ 0., -1.,  0., ...,  0.,  0.,  0.],\n",
        "       ..., \n",
        "       [ 0.,  0.,  0., ...,  0.,  1.,  0.],\n",
        "       [ 0.,  0.,  0., ..., -1.,  0.,  1.],\n",
        "       [ 0.,  0.,  0., ...,  0., -1.,  0.]])"
       ]
      }
     ],
     "prompt_number": 21
    },
    {
     "cell_type": "code",
     "collapsed": false,
     "input": [
      "# Sparse matrix\n",
      "import scipy.sparse as ss\n",
      "dxx = ss.dia_matrix((-ex,-1),shape=(40,40))+ss.dia_matrix((ex,1),shape=(40,40))\n",
      "dyy = ss.dia_matrix((-ex,-1),shape=(40,40))+ss.dia_matrix((ex,1),shape=(40,40))\n",
      "ssmatrix = ss.kronsum(dxx,dyy)\n",
      "ssmatrix"
     ],
     "language": "python",
     "metadata": {},
     "outputs": [
      {
       "metadata": {},
       "output_type": "pyout",
       "prompt_number": 32,
       "text": [
        "<1600x1600 sparse matrix of type '<class 'numpy.float64'>'\n",
        "\twith 6240 stored elements in Compressed Sparse Row format>"
       ]
      }
     ],
     "prompt_number": 32
    },
    {
     "cell_type": "code",
     "collapsed": false,
     "input": [
      "# Check equality\n",
      "np.array_equal(ssmatrix.todense(),fullmatrix)"
     ],
     "language": "python",
     "metadata": {},
     "outputs": [
      {
       "metadata": {},
       "output_type": "pyout",
       "prompt_number": 31,
       "text": [
        "True"
       ]
      }
     ],
     "prompt_number": 31
    },
    {
     "cell_type": "code",
     "collapsed": false,
     "input": [
      "# Create cvxopt sparse matrices\n",
      "import cvxopt\n",
      "coo = ssmatrix.tocoo()\n",
      "c_mat = cvxopt.spmatrix(coo.data,coo.row.tolist(),coo.col.tolist())\n"
     ],
     "language": "python",
     "metadata": {},
     "outputs": [],
     "prompt_number": 33
    },
    {
     "cell_type": "code",
     "collapsed": false,
     "input": [
      "c_mat\n"
     ],
     "language": "python",
     "metadata": {},
     "outputs": [
      {
       "metadata": {},
       "output_type": "pyout",
       "prompt_number": 39,
       "text": [
        "<1600x1600 sparse matrix, tc='d', nnz=6240>"
       ]
      }
     ],
     "prompt_number": 39
    },
    {
     "cell_type": "code",
     "collapsed": false,
     "input": [
      "c_mat."
     ],
     "language": "python",
     "metadata": {},
     "outputs": []
    }
   ],
   "metadata": {}
  }
 ]
}