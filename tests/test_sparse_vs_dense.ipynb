{
 "metadata": {
  "name": ""
 },
 "nbformat": 3,
 "nbformat_minor": 0,
 "worksheets": [
  {
   "cells": [
    {
     "cell_type": "code",
     "collapsed": false,
     "input": [
      "import numpy as np\n",
      "import scipy as sp\n",
      "cells = (4,4)\n",
      "nx,ny = cells\n",
      "ex = np.ones(nx)\n",
      "ey = np.ones(ny)"
     ],
     "language": "python",
     "metadata": {},
     "outputs": [],
     "prompt_number": 33
    },
    {
     "cell_type": "code",
     "collapsed": false,
     "input": [
      "# Full matrix\n",
      "dxx = np.diag(ex[:-1],1)+np.diag(2*ex)-np.diag(ex[:-1],-1)\n",
      "dyy =np.diag(ey[:-1],1)+np.diag(2*ex)-np.diag(ey[:-1],-1)\n",
      "fullmatrix = np.kron(dxx,np.eye(len(ex))) + np.kron(np.eye(len(ey)),dyy)\n",
      "fullmatrix"
     ],
     "language": "python",
     "metadata": {},
     "outputs": [
      {
       "metadata": {},
       "output_type": "pyout",
       "prompt_number": 15,
       "text": [
        "array([[ 4.,  1.,  0., ...,  0.,  0.,  0.],\n",
        "       [-1.,  4.,  1., ...,  0.,  0.,  0.],\n",
        "       [ 0., -1.,  4., ...,  0.,  0.,  0.],\n",
        "       ..., \n",
        "       [ 0.,  0.,  0., ...,  4.,  1.,  0.],\n",
        "       [ 0.,  0.,  0., ..., -1.,  4.,  1.],\n",
        "       [ 0.,  0.,  0., ...,  0., -1.,  4.]])"
       ]
      }
     ],
     "prompt_number": 15
    },
    {
     "cell_type": "code",
     "collapsed": false,
     "input": [
      "# Sparse matrix\n",
      "import scipy.sparse as ss\n",
      "dxx = ss.dia_matrix((-ex,-1),shape=(40,40))+ss.dia_matrix((2*ex,0),shape=(40,40))+ss.dia_matrix((ex,1),shape=(40,40))\n",
      "dyy = ss.dia_matrix((-ex,-1),shape=(40,40))+ss.dia_matrix((2*ey,0),shape=(40,40))+ss.dia_matrix((ex,1),shape=(40,40))\n",
      "ssmatrix = ss.kronsum(dxx,dyy)\n",
      "ssmatrix"
     ],
     "language": "python",
     "metadata": {},
     "outputs": [
      {
       "metadata": {},
       "output_type": "pyout",
       "prompt_number": 6,
       "text": [
        "<1600x1600 sparse matrix of type '<class 'numpy.float64'>'\n",
        "\twith 7840 stored elements in Compressed Sparse Row format>"
       ]
      }
     ],
     "prompt_number": 6
    },
    {
     "cell_type": "code",
     "collapsed": false,
     "input": [
      "# Check equality\n",
      "np.array_equal(ssmatrix.todense(),fullmatrix)"
     ],
     "language": "python",
     "metadata": {},
     "outputs": [
      {
       "metadata": {},
       "output_type": "pyout",
       "prompt_number": 10,
       "text": [
        "True"
       ]
      }
     ],
     "prompt_number": 10
    },
    {
     "cell_type": "code",
     "collapsed": false,
     "input": [
      "# Create cvxopt sparse matrices\n",
      "import cvxopt\n",
      "coo = ssmatrix.tocoo()\n",
      "c_mat = cvxopt.spmatrix(coo.data,coo.row.tolist(),coo.col.tolist())\n",
      "c_mat"
     ],
     "language": "python",
     "metadata": {},
     "outputs": [],
     "prompt_number": 33
    },
    {
     "cell_type": "code",
     "collapsed": false,
     "input": [
      "# Create b vector\n",
      "dxx = np.diag(ex[:-1],-1)-np.diag(ex[:-1],1)\n",
      "dyy = -np.diag(ey[:-1],-1)+np.diag(ey[:-1],1)\n",
      "x_mat = np.kron(np.eye(len(ex)),dxx)\n",
      "y_mat = np.kron(dyy,np.eye(len(ey)))"
     ],
     "language": "python",
     "metadata": {},
     "outputs": [],
     "prompt_number": 34
    },
    {
     "cell_type": "code",
     "collapsed": false,
     "input": [
      "x_mat"
     ],
     "language": "python",
     "metadata": {},
     "outputs": [
      {
       "metadata": {},
       "output_type": "pyout",
       "prompt_number": 35,
       "text": [
        "array([[ 0., -1.,  0.,  0.,  0., -0.,  0.,  0.,  0., -0.,  0.,  0.,  0.,\n",
        "        -0.,  0.,  0.],\n",
        "       [ 1.,  0., -1.,  0.,  0.,  0., -0.,  0.,  0.,  0., -0.,  0.,  0.,\n",
        "         0., -0.,  0.],\n",
        "       [ 0.,  1.,  0., -1.,  0.,  0.,  0., -0.,  0.,  0.,  0., -0.,  0.,\n",
        "         0.,  0., -0.],\n",
        "       [ 0.,  0.,  1.,  0.,  0.,  0.,  0.,  0.,  0.,  0.,  0.,  0.,  0.,\n",
        "         0.,  0.,  0.],\n",
        "       [ 0., -0.,  0.,  0.,  0., -1.,  0.,  0.,  0., -0.,  0.,  0.,  0.,\n",
        "        -0.,  0.,  0.],\n",
        "       [ 0.,  0., -0.,  0.,  1.,  0., -1.,  0.,  0.,  0., -0.,  0.,  0.,\n",
        "         0., -0.,  0.],\n",
        "       [ 0.,  0.,  0., -0.,  0.,  1.,  0., -1.,  0.,  0.,  0., -0.,  0.,\n",
        "         0.,  0., -0.],\n",
        "       [ 0.,  0.,  0.,  0.,  0.,  0.,  1.,  0.,  0.,  0.,  0.,  0.,  0.,\n",
        "         0.,  0.,  0.],\n",
        "       [ 0., -0.,  0.,  0.,  0., -0.,  0.,  0.,  0., -1.,  0.,  0.,  0.,\n",
        "        -0.,  0.,  0.],\n",
        "       [ 0.,  0., -0.,  0.,  0.,  0., -0.,  0.,  1.,  0., -1.,  0.,  0.,\n",
        "         0., -0.,  0.],\n",
        "       [ 0.,  0.,  0., -0.,  0.,  0.,  0., -0.,  0.,  1.,  0., -1.,  0.,\n",
        "         0.,  0., -0.],\n",
        "       [ 0.,  0.,  0.,  0.,  0.,  0.,  0.,  0.,  0.,  0.,  1.,  0.,  0.,\n",
        "         0.,  0.,  0.],\n",
        "       [ 0., -0.,  0.,  0.,  0., -0.,  0.,  0.,  0., -0.,  0.,  0.,  0.,\n",
        "        -1.,  0.,  0.],\n",
        "       [ 0.,  0., -0.,  0.,  0.,  0., -0.,  0.,  0.,  0., -0.,  0.,  1.,\n",
        "         0., -1.,  0.],\n",
        "       [ 0.,  0.,  0., -0.,  0.,  0.,  0., -0.,  0.,  0.,  0., -0.,  0.,\n",
        "         1.,  0., -1.],\n",
        "       [ 0.,  0.,  0.,  0.,  0.,  0.,  0.,  0.,  0.,  0.,  0.,  0.,  0.,\n",
        "         0.,  1.,  0.]])"
       ]
      }
     ],
     "prompt_number": 35
    },
    {
     "cell_type": "code",
     "collapsed": false,
     "input": [
      "y_mat"
     ],
     "language": "python",
     "metadata": {},
     "outputs": [
      {
       "metadata": {},
       "output_type": "pyout",
       "prompt_number": 36,
       "text": [
        "array([[ 0.,  0.,  0.,  0.,  1.,  0.,  0.,  0.,  0.,  0.,  0.,  0.,  0.,\n",
        "         0.,  0.,  0.],\n",
        "       [ 0.,  0.,  0.,  0.,  0.,  1.,  0.,  0.,  0.,  0.,  0.,  0.,  0.,\n",
        "         0.,  0.,  0.],\n",
        "       [ 0.,  0.,  0.,  0.,  0.,  0.,  1.,  0.,  0.,  0.,  0.,  0.,  0.,\n",
        "         0.,  0.,  0.],\n",
        "       [ 0.,  0.,  0.,  0.,  0.,  0.,  0.,  1.,  0.,  0.,  0.,  0.,  0.,\n",
        "         0.,  0.,  0.],\n",
        "       [-1., -0., -0., -0.,  0.,  0.,  0.,  0.,  1.,  0.,  0.,  0.,  0.,\n",
        "         0.,  0.,  0.],\n",
        "       [-0., -1., -0., -0.,  0.,  0.,  0.,  0.,  0.,  1.,  0.,  0.,  0.,\n",
        "         0.,  0.,  0.],\n",
        "       [-0., -0., -1., -0.,  0.,  0.,  0.,  0.,  0.,  0.,  1.,  0.,  0.,\n",
        "         0.,  0.,  0.],\n",
        "       [-0., -0., -0., -1.,  0.,  0.,  0.,  0.,  0.,  0.,  0.,  1.,  0.,\n",
        "         0.,  0.,  0.],\n",
        "       [ 0.,  0.,  0.,  0., -1., -0., -0., -0.,  0.,  0.,  0.,  0.,  1.,\n",
        "         0.,  0.,  0.],\n",
        "       [ 0.,  0.,  0.,  0., -0., -1., -0., -0.,  0.,  0.,  0.,  0.,  0.,\n",
        "         1.,  0.,  0.],\n",
        "       [ 0.,  0.,  0.,  0., -0., -0., -1., -0.,  0.,  0.,  0.,  0.,  0.,\n",
        "         0.,  1.,  0.],\n",
        "       [ 0.,  0.,  0.,  0., -0., -0., -0., -1.,  0.,  0.,  0.,  0.,  0.,\n",
        "         0.,  0.,  1.],\n",
        "       [ 0.,  0.,  0.,  0.,  0.,  0.,  0.,  0., -1., -0., -0., -0.,  0.,\n",
        "         0.,  0.,  0.],\n",
        "       [ 0.,  0.,  0.,  0.,  0.,  0.,  0.,  0., -0., -1., -0., -0.,  0.,\n",
        "         0.,  0.,  0.],\n",
        "       [ 0.,  0.,  0.,  0.,  0.,  0.,  0.,  0., -0., -0., -1., -0.,  0.,\n",
        "         0.,  0.,  0.],\n",
        "       [ 0.,  0.,  0.,  0.,  0.,  0.,  0.,  0., -0., -0., -0., -1.,  0.,\n",
        "         0.,  0.,  0.]])"
       ]
      }
     ],
     "prompt_number": 36
    },
    {
     "cell_type": "code",
     "collapsed": false,
     "input": [],
     "language": "python",
     "metadata": {},
     "outputs": []
    }
   ],
   "metadata": {}
  }
 ]
}