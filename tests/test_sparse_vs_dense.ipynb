{
 "metadata": {
  "name": ""
 },
 "nbformat": 3,
 "nbformat_minor": 0,
 "worksheets": [
  {
   "cells": [
    {
     "cell_type": "code",
     "collapsed": false,
     "input": [
      "import numpy as np\n",
      "import scipy as sp\n",
      "cells = (4,4)\n",
      "nx,ny = cells\n",
      "ex = np.ones(nx)\n",
      "ey = np.ones(ny)"
     ],
     "language": "python",
     "metadata": {},
     "outputs": [],
     "prompt_number": 3
    },
    {
     "cell_type": "code",
     "collapsed": false,
     "input": [
      "# Full matrix\n",
      "dxx = np.diag(ex[:-1],1)+np.diag(2*ex)+np.diag(ex[:-1],-1)\n",
      "dyy =np.diag(ey[:-1],1)+np.diag(2*ex)+np.diag(ey[:-1],-1)\n",
      "fullmatrix = np.kron(dxx,np.eye(len(ex))) + np.kron(np.eye(len(ey)),dyy)\n",
      "k = np.cumsum(np.ones(16))\n",
      "(fullmatrix.T*k).T"
     ],
     "language": "python",
     "metadata": {},
     "outputs": [
      {
       "metadata": {},
       "output_type": "pyout",
       "prompt_number": 12,
       "text": [
        "array([[  4.,   1.,   0.,   0.,   1.,   0.,   0.,   0.,   0.,   0.,   0.,\n",
        "          0.,   0.,   0.,   0.,   0.],\n",
        "       [  2.,   8.,   2.,   0.,   0.,   2.,   0.,   0.,   0.,   0.,   0.,\n",
        "          0.,   0.,   0.,   0.,   0.],\n",
        "       [  0.,   3.,  12.,   3.,   0.,   0.,   3.,   0.,   0.,   0.,   0.,\n",
        "          0.,   0.,   0.,   0.,   0.],\n",
        "       [  0.,   0.,   4.,  16.,   0.,   0.,   0.,   4.,   0.,   0.,   0.,\n",
        "          0.,   0.,   0.,   0.,   0.],\n",
        "       [  5.,   0.,   0.,   0.,  20.,   5.,   0.,   0.,   5.,   0.,   0.,\n",
        "          0.,   0.,   0.,   0.,   0.],\n",
        "       [  0.,   6.,   0.,   0.,   6.,  24.,   6.,   0.,   0.,   6.,   0.,\n",
        "          0.,   0.,   0.,   0.,   0.],\n",
        "       [  0.,   0.,   7.,   0.,   0.,   7.,  28.,   7.,   0.,   0.,   7.,\n",
        "          0.,   0.,   0.,   0.,   0.],\n",
        "       [  0.,   0.,   0.,   8.,   0.,   0.,   8.,  32.,   0.,   0.,   0.,\n",
        "          8.,   0.,   0.,   0.,   0.],\n",
        "       [  0.,   0.,   0.,   0.,   9.,   0.,   0.,   0.,  36.,   9.,   0.,\n",
        "          0.,   9.,   0.,   0.,   0.],\n",
        "       [  0.,   0.,   0.,   0.,   0.,  10.,   0.,   0.,  10.,  40.,  10.,\n",
        "          0.,   0.,  10.,   0.,   0.],\n",
        "       [  0.,   0.,   0.,   0.,   0.,   0.,  11.,   0.,   0.,  11.,  44.,\n",
        "         11.,   0.,   0.,  11.,   0.],\n",
        "       [  0.,   0.,   0.,   0.,   0.,   0.,   0.,  12.,   0.,   0.,  12.,\n",
        "         48.,   0.,   0.,   0.,  12.],\n",
        "       [  0.,   0.,   0.,   0.,   0.,   0.,   0.,   0.,  13.,   0.,   0.,\n",
        "          0.,  52.,  13.,   0.,   0.],\n",
        "       [  0.,   0.,   0.,   0.,   0.,   0.,   0.,   0.,   0.,  14.,   0.,\n",
        "          0.,  14.,  56.,  14.,   0.],\n",
        "       [  0.,   0.,   0.,   0.,   0.,   0.,   0.,   0.,   0.,   0.,  15.,\n",
        "          0.,   0.,  15.,  60.,  15.],\n",
        "       [  0.,   0.,   0.,   0.,   0.,   0.,   0.,   0.,   0.,   0.,   0.,\n",
        "         16.,   0.,   0.,  16.,  64.]])"
       ]
      }
     ],
     "prompt_number": 12
    },
    {
     "cell_type": "code",
     "collapsed": false,
     "input": [
      "# Sparse matrix\n",
      "import scipy.sparse as ss\n",
      "dxx = ss.dia_matrix((ex,-1),shape=cells)+ss.dia_matrix((2*ex,0),shape=cells)+ss.dia_matrix((ex,1),shape=cells)\n",
      "dyy = ss.dia_matrix((ex,-1),shape=cells)+ss.dia_matrix((2*ey,0),shape=cells)+ss.dia_matrix((ex,1),shape=cells)\n",
      "ssmatrix = ss.kronsum(dxx,dyy)\n",
      "ssmatrix"
     ],
     "language": "python",
     "metadata": {},
     "outputs": [
      {
       "metadata": {},
       "output_type": "pyout",
       "prompt_number": 11,
       "text": [
        "<1600x1600 sparse matrix of type '<class 'numpy.float64'>'\n",
        "\twith 7840 stored elements in Compressed Sparse Row format>"
       ]
      }
     ],
     "prompt_number": 11
    },
    {
     "cell_type": "code",
     "collapsed": false,
     "input": [
      "# Check equality\n",
      "np.array_equal(ssmatrix.todense(),fullmatrix)"
     ],
     "language": "python",
     "metadata": {},
     "outputs": [
      {
       "metadata": {},
       "output_type": "pyout",
       "prompt_number": 12,
       "text": [
        "True"
       ]
      }
     ],
     "prompt_number": 12
    },
    {
     "cell_type": "code",
     "collapsed": false,
     "input": [
      "# Create cvxopt sparse matrices\n",
      "import cvxopt\n",
      "coo = ssmatrix.tocoo()\n",
      "c_mat = cvxopt.spmatrix(coo.data,coo.row.tolist(),coo.col.tolist())\n",
      "c_mat"
     ],
     "language": "python",
     "metadata": {},
     "outputs": [
      {
       "metadata": {},
       "output_type": "pyout",
       "prompt_number": 7,
       "text": [
        "<1565x1564 sparse matrix, tc='d', nnz=864>"
       ]
      }
     ],
     "prompt_number": 7
    },
    {
     "cell_type": "code",
     "collapsed": false,
     "input": [
      "%%timeit \n",
      "for i in range(1000):\n",
      "    c_mat.T"
     ],
     "language": "python",
     "metadata": {},
     "outputs": [
      {
       "output_type": "stream",
       "stream": "stdout",
       "text": [
        "100 loops, best of 3: 9.37 ms per loop\n"
       ]
      }
     ],
     "prompt_number": 11
    },
    {
     "cell_type": "code",
     "collapsed": false,
     "input": [
      "# Create b vector\n",
      "dxx = np.diag(ex[:-1],-1)-np.diag(ex[:-1],1)\n",
      "dyy = -np.diag(ey[:-1],-1)+np.diag(ey[:-1],1)\n",
      "x_mat = np.kron(np.eye(len(ex)),dxx)\n",
      "y_mat = np.kron(dyy,np.eye(len(ey)))"
     ],
     "language": "python",
     "metadata": {},
     "outputs": [],
     "prompt_number": 8
    },
    {
     "cell_type": "code",
     "collapsed": false,
     "input": [
      "x_mat"
     ],
     "language": "python",
     "metadata": {},
     "outputs": [
      {
       "metadata": {},
       "output_type": "pyout",
       "prompt_number": 35,
       "text": [
        "array([[ 0., -1.,  0.,  0.,  0., -0.,  0.,  0.,  0., -0.,  0.,  0.,  0.,\n",
        "        -0.,  0.,  0.],\n",
        "       [ 1.,  0., -1.,  0.,  0.,  0., -0.,  0.,  0.,  0., -0.,  0.,  0.,\n",
        "         0., -0.,  0.],\n",
        "       [ 0.,  1.,  0., -1.,  0.,  0.,  0., -0.,  0.,  0.,  0., -0.,  0.,\n",
        "         0.,  0., -0.],\n",
        "       [ 0.,  0.,  1.,  0.,  0.,  0.,  0.,  0.,  0.,  0.,  0.,  0.,  0.,\n",
        "         0.,  0.,  0.],\n",
        "       [ 0., -0.,  0.,  0.,  0., -1.,  0.,  0.,  0., -0.,  0.,  0.,  0.,\n",
        "        -0.,  0.,  0.],\n",
        "       [ 0.,  0., -0.,  0.,  1.,  0., -1.,  0.,  0.,  0., -0.,  0.,  0.,\n",
        "         0., -0.,  0.],\n",
        "       [ 0.,  0.,  0., -0.,  0.,  1.,  0., -1.,  0.,  0.,  0., -0.,  0.,\n",
        "         0.,  0., -0.],\n",
        "       [ 0.,  0.,  0.,  0.,  0.,  0.,  1.,  0.,  0.,  0.,  0.,  0.,  0.,\n",
        "         0.,  0.,  0.],\n",
        "       [ 0., -0.,  0.,  0.,  0., -0.,  0.,  0.,  0., -1.,  0.,  0.,  0.,\n",
        "        -0.,  0.,  0.],\n",
        "       [ 0.,  0., -0.,  0.,  0.,  0., -0.,  0.,  1.,  0., -1.,  0.,  0.,\n",
        "         0., -0.,  0.],\n",
        "       [ 0.,  0.,  0., -0.,  0.,  0.,  0., -0.,  0.,  1.,  0., -1.,  0.,\n",
        "         0.,  0., -0.],\n",
        "       [ 0.,  0.,  0.,  0.,  0.,  0.,  0.,  0.,  0.,  0.,  1.,  0.,  0.,\n",
        "         0.,  0.,  0.],\n",
        "       [ 0., -0.,  0.,  0.,  0., -0.,  0.,  0.,  0., -0.,  0.,  0.,  0.,\n",
        "        -1.,  0.,  0.],\n",
        "       [ 0.,  0., -0.,  0.,  0.,  0., -0.,  0.,  0.,  0., -0.,  0.,  1.,\n",
        "         0., -1.,  0.],\n",
        "       [ 0.,  0.,  0., -0.,  0.,  0.,  0., -0.,  0.,  0.,  0., -0.,  0.,\n",
        "         1.,  0., -1.],\n",
        "       [ 0.,  0.,  0.,  0.,  0.,  0.,  0.,  0.,  0.,  0.,  0.,  0.,  0.,\n",
        "         0.,  1.,  0.]])"
       ]
      }
     ],
     "prompt_number": 35
    },
    {
     "cell_type": "code",
     "collapsed": false,
     "input": [
      "y_mat"
     ],
     "language": "python",
     "metadata": {},
     "outputs": [
      {
       "metadata": {},
       "output_type": "pyout",
       "prompt_number": 36,
       "text": [
        "array([[ 0.,  0.,  0.,  0.,  1.,  0.,  0.,  0.,  0.,  0.,  0.,  0.,  0.,\n",
        "         0.,  0.,  0.],\n",
        "       [ 0.,  0.,  0.,  0.,  0.,  1.,  0.,  0.,  0.,  0.,  0.,  0.,  0.,\n",
        "         0.,  0.,  0.],\n",
        "       [ 0.,  0.,  0.,  0.,  0.,  0.,  1.,  0.,  0.,  0.,  0.,  0.,  0.,\n",
        "         0.,  0.,  0.],\n",
        "       [ 0.,  0.,  0.,  0.,  0.,  0.,  0.,  1.,  0.,  0.,  0.,  0.,  0.,\n",
        "         0.,  0.,  0.],\n",
        "       [-1., -0., -0., -0.,  0.,  0.,  0.,  0.,  1.,  0.,  0.,  0.,  0.,\n",
        "         0.,  0.,  0.],\n",
        "       [-0., -1., -0., -0.,  0.,  0.,  0.,  0.,  0.,  1.,  0.,  0.,  0.,\n",
        "         0.,  0.,  0.],\n",
        "       [-0., -0., -1., -0.,  0.,  0.,  0.,  0.,  0.,  0.,  1.,  0.,  0.,\n",
        "         0.,  0.,  0.],\n",
        "       [-0., -0., -0., -1.,  0.,  0.,  0.,  0.,  0.,  0.,  0.,  1.,  0.,\n",
        "         0.,  0.,  0.],\n",
        "       [ 0.,  0.,  0.,  0., -1., -0., -0., -0.,  0.,  0.,  0.,  0.,  1.,\n",
        "         0.,  0.,  0.],\n",
        "       [ 0.,  0.,  0.,  0., -0., -1., -0., -0.,  0.,  0.,  0.,  0.,  0.,\n",
        "         1.,  0.,  0.],\n",
        "       [ 0.,  0.,  0.,  0., -0., -0., -1., -0.,  0.,  0.,  0.,  0.,  0.,\n",
        "         0.,  1.,  0.],\n",
        "       [ 0.,  0.,  0.,  0., -0., -0., -0., -1.,  0.,  0.,  0.,  0.,  0.,\n",
        "         0.,  0.,  1.],\n",
        "       [ 0.,  0.,  0.,  0.,  0.,  0.,  0.,  0., -1., -0., -0., -0.,  0.,\n",
        "         0.,  0.,  0.],\n",
        "       [ 0.,  0.,  0.,  0.,  0.,  0.,  0.,  0., -0., -1., -0., -0.,  0.,\n",
        "         0.,  0.,  0.],\n",
        "       [ 0.,  0.,  0.,  0.,  0.,  0.,  0.,  0., -0., -0., -1., -0.,  0.,\n",
        "         0.,  0.,  0.],\n",
        "       [ 0.,  0.,  0.,  0.,  0.,  0.,  0.,  0., -0., -0., -0., -1.,  0.,\n",
        "         0.,  0.,  0.]])"
       ]
      }
     ],
     "prompt_number": 36
    },
    {
     "cell_type": "code",
     "collapsed": false,
     "input": [],
     "language": "python",
     "metadata": {},
     "outputs": []
    }
   ],
   "metadata": {}
  }
 ]
}